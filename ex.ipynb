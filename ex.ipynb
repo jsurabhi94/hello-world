{
 "cells": [
  {
   "cell_type": "code",
   "execution_count": 12,
   "metadata": {},
   "outputs": [
    {
     "name": "stdout",
     "output_type": "stream",
     "text": [
      "a - 4.68%\n",
      "b - 4.94%\n",
      "c - 2.28%\n",
      "d - 0.0%\n",
      "e - 3.8%\n",
      "f - 5.19%\n",
      "g - 8.99%\n",
      "h - 2.53%\n",
      "i - 0.63%\n",
      "j - 0.51%\n",
      "k - 0.51%\n",
      "l - 1.9%\n",
      "m - 0.0%\n",
      "n - 6.2%\n",
      "o - 2.28%\n",
      "p - 1.9%\n",
      "q - 2.03%\n",
      "r - 10.51%\n",
      "s - 1.27%\n",
      "t - 1.39%\n",
      "u - 3.54%\n",
      "v - 6.08%\n",
      "w - 0.0%\n",
      "x - 0.25%\n",
      "y - 3.92%\n",
      "z - 1.65%\n"
     ]
    }
   ],
   "source": [
    "def count_char(text, char):\n",
    "    count = 0\n",
    "    for c in text:\n",
    "        if c == char:\n",
    "            count += 1\n",
    "    return count\n",
    "\n",
    "file = open(\"newfile.txt\", \"w\")\n",
    "file.write(\"\"\"Ornhgvshy vf orggre guna htyl.\n",
    "Rkcyvpvg vf orggre guna vzcyvpvg.\n",
    "Fvzcyr vf orggre guna pbzcyvpngrq.\n",
    "Syng vf orggre guna arfgrq.\n",
    "Fcenfr fv orggre guna qrafr.\n",
    "Ernqnovyvgl pbhagf.\n",
    "Fcrpvny pnfrf nera'g fcrpvny rabthu gb oernx gur ehyrf.\n",
    "Nygubhtu cenpgvpnyvgl orgnf chevgl.\n",
    "Reebef fubhyq arire cnff fvyragyl.\n",
    "Hayrff rkcyvpvgyl fvyraprq.\n",
    "Va gur snpr bs nzovthvgl, ershfr gur grzcgngvba bg thrff.\n",
    "Gurer fubhyq or bar-- naq cersrenoylbayl bar --boivbhf jnl gb qb vg.\n",
    "Nygubhtu gung jnl znl abg or boivbhf ng svefg hayrff lbh'er Qhgpu.\n",
    "Abj vf orggre guna arrire.\n",
    "Nygubhtu arire vf bsgra orggre guna *evtug* abj.\n",
    "Vs gur vzcyrzragngvba vf uneq gb rkcynva, vg'f n onq vqrn.\n",
    "Vs gur vzcyrzragngvba vf rnfl gb rkcynva, vg znl or n tbbq vqrn.\n",
    "Anzrfcnprf ner bar ubaxvat terng vqrn -- yrg'f qb zber bs gubfr!\"\"\")\n",
    "file.close()\n",
    "filename = \"newfile.txt\"\n",
    "with open(filename) as f:\n",
    "    text = f.read()\n",
    "\n",
    "for char in \"abcdefghijklmnopqrstuvwxyz\":\n",
    "    perc = 100 * count_char(text, char) / len(text)\n",
    "    print(\"{0} - {1}%\".format(char, round(perc, 2)))"
   ]
  },
  {
   "cell_type": "code",
   "execution_count": 18,
   "metadata": {},
   "outputs": [
    {
     "name": "stdout",
     "output_type": "stream",
     "text": [
      "Big sum: 404999050500\n",
      "Elapsed time: 537.4102592468262  ms\n"
     ]
    }
   ],
   "source": [
    "import time\n",
    "\n",
    "def elapsed_time(f):\n",
    "    def wrapper(*n):\n",
    "# *n for any arguments in the primary function\n",
    "        t1 = time.time()\n",
    "        f(*n)\n",
    "# *n for any arguments in the primary function\n",
    "        t2 = time.time()\n",
    "        el_time = (t2 - t1) * 1000\n",
    "        print('Elapsed time: {}  ms'.format(el_time))\n",
    "    return wrapper\n",
    "\n",
    "\n",
    "@elapsed_time\n",
    "def big_sum():\n",
    "    num_list = []\n",
    "    for num in (range(1000, 900000)):\n",
    "        num_list.append(num)\n",
    "    print('Big sum: {}'.format(sum(num_list)))\n",
    "\n",
    "    \n",
    "big_sum()"
   ]
  },
  {
   "cell_type": "code",
   "execution_count": 22,
   "metadata": {},
   "outputs": [
    {
     "name": "stdout",
     "output_type": "stream",
     "text": [
      "120\n"
     ]
    }
   ],
   "source": [
    "def factorial(x):\n",
    "    if x == 1:\n",
    "        return 1\n",
    "    else:\n",
    "        return x * factorial(x-1)\n",
    "\n",
    "print(factorial(5))"
   ]
  },
  {
   "cell_type": "code",
   "execution_count": 30,
   "metadata": {},
   "outputs": [
    {
     "name": "stdout",
     "output_type": "stream",
     "text": [
      "python\n"
     ]
    }
   ],
   "source": [
    "class pyon:\n",
    "    def __init__(self):\n",
    "        self.name = \"python\"\n",
    "        name = \"learning\"\n",
    "        \n",
    "obj = pyon()\n",
    "print(obj.name)"
   ]
  },
  {
   "cell_type": "code",
   "execution_count": 3,
   "metadata": {},
   "outputs": [
    {
     "ename": "SyntaxError",
     "evalue": "unexpected character after line continuation character (<ipython-input-3-c40de0269ae8>, line 9)",
     "output_type": "error",
     "traceback": [
      "\u001b[1;36m  File \u001b[1;32m\"<ipython-input-3-c40de0269ae8>\"\u001b[1;36m, line \u001b[1;32m9\u001b[0m\n\u001b[1;33m    happy_bday = Song(\"Happy birthday to you\",\\n \"I don't want to get sued\",\\n \"So I'll stop right there\")\u001b[0m\n\u001b[1;37m                                                                                                          ^\u001b[0m\n\u001b[1;31mSyntaxError\u001b[0m\u001b[1;31m:\u001b[0m unexpected character after line continuation character\n"
     ]
    }
   ],
   "source": [
    "class Song(object):\n",
    "    def __init__(self, lyrics):\n",
    "        self.lyrics = lyrics\n",
    "        \n",
    "    def sing_me_a_song(self):\n",
    "        for line in self.lyrics:\n",
    "            print(line)\n",
    "        \n",
    "happy_bday = Song(\"Happy birthday to you\",\\n \"I don't want to get sued\",\\n \"So I'll stop right there\")\n",
    "\n",
    "bulls_on_parade = Song([\"They rally around the family\",\\n \"With pockets full of shells\"])\n",
    "        \n",
    "happy_bday.sing_me_a_song()\n",
    "    "
   ]
  },
  {
   "cell_type": "code",
   "execution_count": 2,
   "metadata": {},
   "outputs": [
    {
     "name": "stdout",
     "output_type": "stream",
     "text": [
      "12\n"
     ]
    }
   ],
   "source": [
    "st = \"i love india a lot like you\"\n",
    "vw = \"aeiou\"\n",
    "c= 0\n",
    "for v in vw:\n",
    "    c = c+ st.count(v)\n",
    "print(c)"
   ]
  },
  {
   "cell_type": "code",
   "execution_count": 13,
   "metadata": {},
   "outputs": [
    {
     "name": "stdout",
     "output_type": "stream",
     "text": [
      "(1, 'guave')\n",
      "(2, 'orange')\n",
      "(3, 'apple')\n",
      "(4, 'pear')\n",
      "(5, 'banana')\n",
      "(6, 'grape')\n"
     ]
    }
   ],
   "source": [
    "basket = ['guave', 'orange', 'apple', 'pear', 'banana', 'grape'] \n",
    "  \n",
    "for x in enumerate(basket, start = 1):\n",
    "    print(x)"
   ]
  },
  {
   "cell_type": "code",
   "execution_count": 10,
   "metadata": {},
   "outputs": [
    {
     "name": "stdout",
     "output_type": "stream",
     "text": [
      "Help on class enumerate in module builtins:\n",
      "\n",
      "class enumerate(object)\n",
      " |  enumerate(iterable, start=0)\n",
      " |  \n",
      " |  Return an enumerate object.\n",
      " |  \n",
      " |    iterable\n",
      " |      an object supporting iteration\n",
      " |  \n",
      " |  The enumerate object yields pairs containing a count (from start, which\n",
      " |  defaults to zero) and a value yielded by the iterable argument.\n",
      " |  \n",
      " |  enumerate is useful for obtaining an indexed list:\n",
      " |      (0, seq[0]), (1, seq[1]), (2, seq[2]), ...\n",
      " |  \n",
      " |  Methods defined here:\n",
      " |  \n",
      " |  __getattribute__(self, name, /)\n",
      " |      Return getattr(self, name).\n",
      " |  \n",
      " |  __iter__(self, /)\n",
      " |      Implement iter(self).\n",
      " |  \n",
      " |  __next__(self, /)\n",
      " |      Implement next(self).\n",
      " |  \n",
      " |  __reduce__(...)\n",
      " |      Return state information for pickling.\n",
      " |  \n",
      " |  ----------------------------------------------------------------------\n",
      " |  Static methods defined here:\n",
      " |  \n",
      " |  __new__(*args, **kwargs) from builtins.type\n",
      " |      Create and return a new object.  See help(type) for accurate signature.\n",
      "\n"
     ]
    }
   ],
   "source": [
    "help (enumerate)\n"
   ]
  },
  {
   "cell_type": "code",
   "execution_count": 14,
   "metadata": {},
   "outputs": [
    {
     "name": "stdout",
     "output_type": "stream",
     "text": [
      "berlin\n",
      "vienna\n",
      "zurich\n"
     ]
    }
   ],
   "source": [
    "cities= [\"berlin\", \"vienna\", \"zurich\"]\n",
    "iter_obj = cities.__iter__()\n",
    "print(iter_obj.__next__())\n",
    "print(iter_obj.__next__())\n",
    "print(iter_obj.__next__())"
   ]
  },
  {
   "cell_type": "code",
   "execution_count": 22,
   "metadata": {},
   "outputs": [
    {
     "name": "stdout",
     "output_type": "stream",
     "text": [
      "berlin\n",
      "vienna\n",
      "zurich\n",
      "Yay!! error\n"
     ]
    }
   ],
   "source": [
    "try:\n",
    "    iter_ob = iter(cities)\n",
    "    print(next(iter_ob))\n",
    "    print(next(iter_ob))\n",
    "    print(next(iter_ob))\n",
    "    print(next(iter_ob))\n",
    "except:\n",
    "    print(\"Yay!! error\")"
   ]
  },
  {
   "cell_type": "code",
   "execution_count": 16,
   "metadata": {},
   "outputs": [
    {
     "name": "stdout",
     "output_type": "stream",
     "text": [
      "(1, 'berlin')\n",
      "(2, 'vienna')\n",
      "(3, 'zurich')\n"
     ]
    }
   ],
   "source": [
    "for x in enumerate(cities, start = 1):\n",
    "    print(x)"
   ]
  },
  {
   "cell_type": "code",
   "execution_count": 17,
   "metadata": {},
   "outputs": [
    {
     "name": "stdout",
     "output_type": "stream",
     "text": [
      "berlin\n",
      "vienna\n",
      "zurich\n"
     ]
    }
   ],
   "source": [
    "for x in cities:\n",
    "    print(x)"
   ]
  },
  {
   "cell_type": "code",
   "execution_count": 20,
   "metadata": {},
   "outputs": [
    {
     "name": "stdout",
     "output_type": "stream",
     "text": [
      "berlin\n",
      "vienna\n",
      "zurich\n"
     ]
    }
   ],
   "source": [
    "i = 0\n",
    "while i <= len(cities)-1:\n",
    "    print(cities[i])\n",
    "    i +=1"
   ]
  },
  {
   "cell_type": "code",
   "execution_count": 27,
   "metadata": {},
   "outputs": [
    {
     "name": "stdout",
     "output_type": "stream",
     "text": [
      "[2]\n"
     ]
    }
   ],
   "source": [
    "def is_even(nums):\n",
    "    if nums % 2 == 0:\n",
    "        return True\n",
    "    \n",
    "def get_even():\n",
    "    num = 2\n",
    "    if is_even(num):\n",
    "        yield num\n",
    "    num += 1\n",
    "    \n",
    "print(list(get_even()))"
   ]
  },
  {
   "cell_type": "code",
   "execution_count": 1,
   "metadata": {},
   "outputs": [
    {
     "name": "stdout",
     "output_type": "stream",
     "text": [
      "Help on built-in function id in module builtins:\n",
      "\n",
      "id(obj, /)\n",
      "    Return the identity of an object.\n",
      "    \n",
      "    This is guaranteed to be unique among simultaneously existing objects.\n",
      "    (CPython uses the object's memory address.)\n",
      "\n"
     ]
    }
   ],
   "source": [
    "help(id)\n"
   ]
  },
  {
   "cell_type": "code",
   "execution_count": 5,
   "metadata": {},
   "outputs": [
    {
     "name": "stdout",
     "output_type": "stream",
     "text": [
      "12345\n",
      "1234\n",
      "123\n",
      "12\n",
      "1\n",
      "\n",
      "\n"
     ]
    }
   ],
   "source": [
    "i = 6\n",
    "while i >= 0:\n",
    "    for j in range (1, i):\n",
    "        print(j, end = \"\"),\n",
    "    print()\n",
    "    i = i-1"
   ]
  },
  {
   "cell_type": "code",
   "execution_count": 15,
   "metadata": {},
   "outputs": [
    {
     "name": "stdout",
     "output_type": "stream",
     "text": [
      "Table to 1 is as follows:\n",
      "\n",
      "1 * 1 = 1\n",
      "1 * 2 = 2\n",
      "1 * 3 = 3\n",
      "1 * 4 = 4\n",
      "1 * 5 = 5\n",
      "1 * 6 = 6\n",
      "1 * 7 = 7\n",
      "1 * 8 = 8\n",
      "1 * 9 = 9\n",
      "1 * 10 = 10\n",
      "\n",
      "Table to 2 is as follows:\n",
      "\n",
      "2 * 1 = 2\n",
      "2 * 2 = 4\n",
      "2 * 3 = 6\n",
      "2 * 4 = 8\n",
      "2 * 5 = 10\n",
      "2 * 6 = 12\n",
      "2 * 7 = 14\n",
      "2 * 8 = 16\n",
      "2 * 9 = 18\n",
      "2 * 10 = 20\n",
      "\n",
      "Table to 3 is as follows:\n",
      "\n",
      "3 * 1 = 3\n",
      "3 * 2 = 6\n",
      "3 * 3 = 9\n",
      "3 * 4 = 12\n",
      "3 * 5 = 15\n",
      "3 * 6 = 18\n",
      "3 * 7 = 21\n",
      "3 * 8 = 24\n",
      "3 * 9 = 27\n",
      "3 * 10 = 30\n",
      "\n"
     ]
    }
   ],
   "source": [
    "# to print table starting from 1 to specified no.\n",
    "n=3\n",
    "for i in range (1, n+1):\n",
    "    j=1\n",
    "    print('Table to', i, 'is as follows:')\n",
    "    print()\n",
    "    while j <= 10:\n",
    "        print (i, '*', j, '=', i*j)\n",
    "        j = j+1\n",
    "    print()"
   ]
  },
  {
   "cell_type": "code",
   "execution_count": 20,
   "metadata": {},
   "outputs": [
    {
     "name": "stdout",
     "output_type": "stream",
     "text": [
      "matched water at position 6\n"
     ]
    }
   ],
   "source": [
    "def search_string():\n",
    "    import re\n",
    "    substring='water'\n",
    "    search1=re.search(substring,'Water water everywhere but not a drop to drink')\n",
    "    if search1:\n",
    "        position=search1.start()\n",
    "        print (\"matched\", substring, \"at position\", position)\n",
    "    else:\n",
    "        print (\"No match found\")\n",
    "        \n",
    "        \n",
    "search_string()"
   ]
  },
  {
   "cell_type": "code",
   "execution_count": 25,
   "metadata": {},
   "outputs": [
    {
     "name": "stdout",
     "output_type": "stream",
     "text": [
      "matched sing at index 5 ending at 9\n"
     ]
    }
   ],
   "source": [
    "def metasearch():\n",
    "    import re\n",
    "    p=re.compile('sing+')\n",
    "    search1=re.search(p,'Some singers sing well')\n",
    "    if search1:\n",
    "        match=search1.group()\n",
    "        index=search1.start()\n",
    "        lindex=search1.end()\n",
    "        print (\"matched\", match, \"at index\", index ,\"ending at\" ,lindex)\n",
    "        \n",
    "    else:\n",
    "        print (\"No match found\")\n",
    "        \n",
    "metasearch()"
   ]
  },
  {
   "cell_type": "code",
   "execution_count": 1,
   "metadata": {},
   "outputs": [
    {
     "ename": "NameError",
     "evalue": "name 'datetime' is not defined",
     "output_type": "error",
     "traceback": [
      "\u001b[1;31m---------------------------------------------------------------------------\u001b[0m",
      "\u001b[1;31mNameError\u001b[0m                                 Traceback (most recent call last)",
      "\u001b[1;32m<ipython-input-1-191851b23731>\u001b[0m in \u001b[0;36m<module>\u001b[1;34m()\u001b[0m\n\u001b[1;32m----> 1\u001b[1;33m \u001b[0mhelp\u001b[0m\u001b[1;33m(\u001b[0m\u001b[0mdatetime\u001b[0m\u001b[1;33m)\u001b[0m\u001b[1;33m\u001b[0m\u001b[0m\n\u001b[0m",
      "\u001b[1;31mNameError\u001b[0m: name 'datetime' is not defined"
     ]
    }
   ],
   "source": [
    "help(datetime)"
   ]
  },
  {
   "cell_type": "code",
   "execution_count": 3,
   "metadata": {},
   "outputs": [
    {
     "data": {
      "text/html": [
       "<div>\n",
       "<style scoped>\n",
       "    .dataframe tbody tr th:only-of-type {\n",
       "        vertical-align: middle;\n",
       "    }\n",
       "\n",
       "    .dataframe tbody tr th {\n",
       "        vertical-align: top;\n",
       "    }\n",
       "\n",
       "    .dataframe thead th {\n",
       "        text-align: right;\n",
       "    }\n",
       "</style>\n",
       "<table border=\"1\" class=\"dataframe\">\n",
       "  <thead>\n",
       "    <tr style=\"text-align: right;\">\n",
       "      <th></th>\n",
       "      <th>COMPANY</th>\n",
       "      <th>PERSON</th>\n",
       "      <th>Sales</th>\n",
       "    </tr>\n",
       "  </thead>\n",
       "  <tbody>\n",
       "    <tr>\n",
       "      <th>0</th>\n",
       "      <td>GOOGLE</td>\n",
       "      <td>Sam</td>\n",
       "      <td>200</td>\n",
       "    </tr>\n",
       "    <tr>\n",
       "      <th>1</th>\n",
       "      <td>GOOGLE</td>\n",
       "      <td>Charlie</td>\n",
       "      <td>120</td>\n",
       "    </tr>\n",
       "    <tr>\n",
       "      <th>2</th>\n",
       "      <td>ORACLE</td>\n",
       "      <td>Amy</td>\n",
       "      <td>340</td>\n",
       "    </tr>\n",
       "    <tr>\n",
       "      <th>3</th>\n",
       "      <td>ORACLE</td>\n",
       "      <td>Vanessa</td>\n",
       "      <td>124</td>\n",
       "    </tr>\n",
       "    <tr>\n",
       "      <th>4</th>\n",
       "      <td>TWITTER</td>\n",
       "      <td>Carl</td>\n",
       "      <td>243</td>\n",
       "    </tr>\n",
       "    <tr>\n",
       "      <th>5</th>\n",
       "      <td>TWITTER</td>\n",
       "      <td>Sarah</td>\n",
       "      <td>350</td>\n",
       "    </tr>\n",
       "  </tbody>\n",
       "</table>\n",
       "</div>"
      ],
      "text/plain": [
       "   COMPANY   PERSON  Sales\n",
       "0   GOOGLE      Sam    200\n",
       "1   GOOGLE  Charlie    120\n",
       "2   ORACLE      Amy    340\n",
       "3   ORACLE  Vanessa    124\n",
       "4  TWITTER     Carl    243\n",
       "5  TWITTER    Sarah    350"
      ]
     },
     "execution_count": 3,
     "metadata": {},
     "output_type": "execute_result"
    }
   ],
   "source": [
    "import pandas as pd\n",
    "import numpy as np\n",
    "d = {'COMPANY': ['GOOGLE', 'GOOGLE', 'ORACLE', 'ORACLE', 'TWITTER', 'TWITTER'],\n",
    "     'PERSON': ['Sam', 'Charlie', 'Amy', 'Vanessa', 'Carl', 'Sarah'],\n",
    "     'Sales': [200,120,340,124,243,350]\n",
    "}\n",
    "df = pd.DataFrame(d)\n",
    "df"
   ]
  },
  {
   "cell_type": "code",
   "execution_count": 10,
   "metadata": {},
   "outputs": [
    {
     "data": {
      "text/plain": [
       "COMPANY\n",
       "GOOGLE     160.0\n",
       "ORACLE     232.0\n",
       "TWITTER    296.5\n",
       "Name: Sales, dtype: float64"
      ]
     },
     "execution_count": 10,
     "metadata": {},
     "output_type": "execute_result"
    }
   ],
   "source": [
    "df.groupby('COMPANY')['Sales'].mean()"
   ]
  },
  {
   "cell_type": "code",
   "execution_count": 11,
   "metadata": {},
   "outputs": [
    {
     "data": {
      "text/html": [
       "<div>\n",
       "<style scoped>\n",
       "    .dataframe tbody tr th:only-of-type {\n",
       "        vertical-align: middle;\n",
       "    }\n",
       "\n",
       "    .dataframe tbody tr th {\n",
       "        vertical-align: top;\n",
       "    }\n",
       "\n",
       "    .dataframe thead th {\n",
       "        text-align: right;\n",
       "    }\n",
       "</style>\n",
       "<table border=\"1\" class=\"dataframe\">\n",
       "  <thead>\n",
       "    <tr style=\"text-align: right;\">\n",
       "      <th></th>\n",
       "      <th>PERSON</th>\n",
       "      <th>Sales</th>\n",
       "    </tr>\n",
       "    <tr>\n",
       "      <th>COMPANY</th>\n",
       "      <th></th>\n",
       "      <th></th>\n",
       "    </tr>\n",
       "  </thead>\n",
       "  <tbody>\n",
       "    <tr>\n",
       "      <th>GOOGLE</th>\n",
       "      <td>2</td>\n",
       "      <td>2</td>\n",
       "    </tr>\n",
       "    <tr>\n",
       "      <th>ORACLE</th>\n",
       "      <td>2</td>\n",
       "      <td>2</td>\n",
       "    </tr>\n",
       "    <tr>\n",
       "      <th>TWITTER</th>\n",
       "      <td>2</td>\n",
       "      <td>2</td>\n",
       "    </tr>\n",
       "  </tbody>\n",
       "</table>\n",
       "</div>"
      ],
      "text/plain": [
       "         PERSON  Sales\n",
       "COMPANY               \n",
       "GOOGLE        2      2\n",
       "ORACLE        2      2\n",
       "TWITTER       2      2"
      ]
     },
     "execution_count": 11,
     "metadata": {},
     "output_type": "execute_result"
    }
   ],
   "source": [
    "df.groupby('COMPANY').count()"
   ]
  },
  {
   "cell_type": "code",
   "execution_count": null,
   "metadata": {},
   "outputs": [],
   "source": []
  }
 ],
 "metadata": {
  "kernelspec": {
   "display_name": "Python 3",
   "language": "python",
   "name": "python3"
  },
  "language_info": {
   "codemirror_mode": {
    "name": "ipython",
    "version": 3
   },
   "file_extension": ".py",
   "mimetype": "text/x-python",
   "name": "python",
   "nbconvert_exporter": "python",
   "pygments_lexer": "ipython3",
   "version": "3.7.3"
  }
 },
 "nbformat": 4,
 "nbformat_minor": 2
}
